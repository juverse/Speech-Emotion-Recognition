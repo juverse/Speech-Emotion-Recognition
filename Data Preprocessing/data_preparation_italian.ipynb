{
 "cells": [
  {
   "cell_type": "markdown",
   "metadata": {},
   "source": [
    "## Data Preparation German\n",
    "output: dataframe with catagories, speaker_id and data_path"
   ]
  },
  {
   "cell_type": "code",
   "execution_count": 2,
   "metadata": {},
   "outputs": [],
   "source": [
    "# dependecies\n",
    "import re\n",
    "import os\n",
    "import matplotlib.pyplot as plt\n",
    "import seaborn as sns\n",
    "import pandas as pd"
   ]
  },
  {
   "cell_type": "code",
   "execution_count": null,
   "metadata": {},
   "outputs": [],
   "source": [
    "# Define the dataset directory\n",
    "savee_path = r\"..\\Data\\Italian\"\n",
    "\n",
    "\n",
    "# Mapping EMOVO filename encoding to emotions \n",
    "emotion_map = {\n",
    "    'rab': 'anger',\n",
    "    'sor': 'surprise',\n",
    "    'dis': 'disgust',\n",
    "    'pau': 'fear',\n",
    "    'gio': 'joy',\n",
    "    'tri': 'sadness',\n",
    "    'neu': 'neutral'\n",
    "}\n",
    "\n",
    "data = []\n",
    "speaker_id = 0\n",
    "for speaker in os.listdir(savee_path):\n",
    "    speaker_path = os.path.join(savee_path, speaker)\n",
    "    if os.path.isdir(speaker_path) and re.match(r'..\\\\Data\\\\Italian\\\\[mf]\\d{1}', speaker_path):\n",
    "        speaker_id += 1\n",
    "        for filename in os.listdir(speaker_path):\n",
    "            file_path = os.path.join(speaker_path, filename)\n",
    "            if os.path.isfile(file_path) and re.match(r\"^[a-z]+-[mf]\\d{1}-[bdln]\\d{1}.wav\", filename):\n",
    "                parts = filename.split('-')\n",
    "                emotion = emotion_map[parts[0]]\n",
    "                data.append([file_path, emotion, speaker_id])\n"
   ]
  },
  {
   "cell_type": "code",
   "execution_count": 13,
   "metadata": {},
   "outputs": [
    {
     "data": {
      "text/html": [
       "<div>\n",
       "<style scoped>\n",
       "    .dataframe tbody tr th:only-of-type {\n",
       "        vertical-align: middle;\n",
       "    }\n",
       "\n",
       "    .dataframe tbody tr th {\n",
       "        vertical-align: top;\n",
       "    }\n",
       "\n",
       "    .dataframe thead th {\n",
       "        text-align: right;\n",
       "    }\n",
       "</style>\n",
       "<table border=\"1\" class=\"dataframe\">\n",
       "  <thead>\n",
       "    <tr style=\"text-align: right;\">\n",
       "      <th></th>\n",
       "      <th>filename</th>\n",
       "      <th>emotion</th>\n",
       "      <th>speaker_id</th>\n",
       "    </tr>\n",
       "  </thead>\n",
       "  <tbody>\n",
       "    <tr>\n",
       "      <th>0</th>\n",
       "      <td>..\\Data\\Italian\\f1\\dis-f1-b1.wav</td>\n",
       "      <td>disgust</td>\n",
       "      <td>1</td>\n",
       "    </tr>\n",
       "    <tr>\n",
       "      <th>1</th>\n",
       "      <td>..\\Data\\Italian\\f1\\dis-f1-b2.wav</td>\n",
       "      <td>disgust</td>\n",
       "      <td>1</td>\n",
       "    </tr>\n",
       "    <tr>\n",
       "      <th>2</th>\n",
       "      <td>..\\Data\\Italian\\f1\\dis-f1-b3.wav</td>\n",
       "      <td>disgust</td>\n",
       "      <td>1</td>\n",
       "    </tr>\n",
       "    <tr>\n",
       "      <th>3</th>\n",
       "      <td>..\\Data\\Italian\\f1\\dis-f1-d1.wav</td>\n",
       "      <td>disgust</td>\n",
       "      <td>1</td>\n",
       "    </tr>\n",
       "    <tr>\n",
       "      <th>4</th>\n",
       "      <td>..\\Data\\Italian\\f1\\dis-f1-d2.wav</td>\n",
       "      <td>disgust</td>\n",
       "      <td>1</td>\n",
       "    </tr>\n",
       "  </tbody>\n",
       "</table>\n",
       "</div>"
      ],
      "text/plain": [
       "                           filename  emotion  speaker_id\n",
       "0  ..\\Data\\Italian\\f1\\dis-f1-b1.wav  disgust           1\n",
       "1  ..\\Data\\Italian\\f1\\dis-f1-b2.wav  disgust           1\n",
       "2  ..\\Data\\Italian\\f1\\dis-f1-b3.wav  disgust           1\n",
       "3  ..\\Data\\Italian\\f1\\dis-f1-d1.wav  disgust           1\n",
       "4  ..\\Data\\Italian\\f1\\dis-f1-d2.wav  disgust           1"
      ]
     },
     "execution_count": 13,
     "metadata": {},
     "output_type": "execute_result"
    }
   ],
   "source": [
    "# Create a DataFrame\n",
    "df = pd.DataFrame(data, columns= ['filename', 'emotion', 'speaker_id'])\n",
    "df.head()"
   ]
  },
  {
   "cell_type": "code",
   "execution_count": 14,
   "metadata": {},
   "outputs": [
    {
     "data": {
      "text/plain": [
       "6"
      ]
     },
     "execution_count": 14,
     "metadata": {},
     "output_type": "execute_result"
    }
   ],
   "source": [
    "# counts of speakers\n",
    "df[\"speaker_id\"].nunique()"
   ]
  },
  {
   "cell_type": "code",
   "execution_count": 15,
   "metadata": {},
   "outputs": [
    {
     "data": {
      "text/plain": [
       "speaker_id\n",
       "1    98\n",
       "2    98\n",
       "3    98\n",
       "4    98\n",
       "5    98\n",
       "6    98\n",
       "Name: count, dtype: int64"
      ]
     },
     "execution_count": 15,
     "metadata": {},
     "output_type": "execute_result"
    }
   ],
   "source": [
    "# speaker distribution\n",
    "speaker_distribution = df[\"speaker_id\"].value_counts()\n",
    "speaker_distribution\n"
   ]
  },
  {
   "cell_type": "markdown",
   "metadata": {},
   "source": [
    "We have 10 speakers and the speaker distribution looks good as they all have a similar amount of audio files."
   ]
  },
  {
   "cell_type": "code",
   "execution_count": 16,
   "metadata": {},
   "outputs": [
    {
     "data": {
      "text/plain": [
       "emotion\n",
       "disgust     84\n",
       "joy         84\n",
       "neutral     84\n",
       "fear        84\n",
       "anger       84\n",
       "surprise    84\n",
       "sadness     84\n",
       "Name: count, dtype: int64"
      ]
     },
     "execution_count": 16,
     "metadata": {},
     "output_type": "execute_result"
    }
   ],
   "source": [
    "# Count occurrences of each emotion\n",
    "emotion_counts = df['emotion'].value_counts()\n",
    "emotion_counts"
   ]
  },
  {
   "cell_type": "code",
   "execution_count": 17,
   "metadata": {},
   "outputs": [
    {
     "name": "stderr",
     "output_type": "stream",
     "text": [
      "C:\\Users\\david\\AppData\\Local\\Temp\\ipykernel_29480\\19157682.py:3: FutureWarning: \n",
      "\n",
      "Passing `palette` without assigning `hue` is deprecated and will be removed in v0.14.0. Assign the `x` variable to `hue` and set `legend=False` for the same effect.\n",
      "\n",
      "  sns.barplot(x=emotion_counts.index, y=emotion_counts.values, palette=\"viridis\")\n"
     ]
    },
    {
     "data": {
      "image/png": "[encoded data removed]",
      "text/plain": [
       "<Figure size 800x600 with 1 Axes>"
      ]
     },
     "metadata": {},
     "output_type": "display_data"
    }
   ],
   "source": [
    "# plot distribution of emotions\n",
    "plt.figure(figsize=(8, 6))\n",
    "sns.barplot(x=emotion_counts.index, y=emotion_counts.values, palette=\"viridis\")\n",
    "plt.xlabel(\"Emotions\")\n",
    "plt.ylabel(\"Count\")\n",
    "plt.title(\"Count of Emotions (EmoDB)\")\n",
    "plt.show()"
   ]
  },
  {
   "cell_type": "code",
   "execution_count": 18,
   "metadata": {},
   "outputs": [],
   "source": [
    "# Mapping dictionary\n",
    "# positive: 1\n",
    "# negative: 0\n",
    "valence_map = {\n",
    "    'anger' : 0,\n",
    "    'surprise': 1,\n",
    "    'disgust': 0,\n",
    "    'fear': 0,\n",
    "    'joy': 1,\n",
    "    'sadness': 0,\n",
    "    'neutral': 1\n",
    "}\n",
    "\n",
    "# Map emotions to Positive/Negative\n",
    "df['valence'] = df['emotion'].map(valence_map)"
   ]
  },
  {
   "cell_type": "code",
   "execution_count": 19,
   "metadata": {},
   "outputs": [
    {
     "data": {
      "text/html": [
       "<div>\n",
       "<style scoped>\n",
       "    .dataframe tbody tr th:only-of-type {\n",
       "        vertical-align: middle;\n",
       "    }\n",
       "\n",
       "    .dataframe tbody tr th {\n",
       "        vertical-align: top;\n",
       "    }\n",
       "\n",
       "    .dataframe thead th {\n",
       "        text-align: right;\n",
       "    }\n",
       "</style>\n",
       "<table border=\"1\" class=\"dataframe\">\n",
       "  <thead>\n",
       "    <tr style=\"text-align: right;\">\n",
       "      <th></th>\n",
       "      <th>filename</th>\n",
       "      <th>emotion</th>\n",
       "      <th>speaker_id</th>\n",
       "      <th>valence</th>\n",
       "    </tr>\n",
       "  </thead>\n",
       "  <tbody>\n",
       "    <tr>\n",
       "      <th>0</th>\n",
       "      <td>..\\Data\\Italian\\f1\\dis-f1-b1.wav</td>\n",
       "      <td>disgust</td>\n",
       "      <td>1</td>\n",
       "      <td>0</td>\n",
       "    </tr>\n",
       "    <tr>\n",
       "      <th>1</th>\n",
       "      <td>..\\Data\\Italian\\f1\\dis-f1-b2.wav</td>\n",
       "      <td>disgust</td>\n",
       "      <td>1</td>\n",
       "      <td>0</td>\n",
       "    </tr>\n",
       "    <tr>\n",
       "      <th>2</th>\n",
       "      <td>..\\Data\\Italian\\f1\\dis-f1-b3.wav</td>\n",
       "      <td>disgust</td>\n",
       "      <td>1</td>\n",
       "      <td>0</td>\n",
       "    </tr>\n",
       "    <tr>\n",
       "      <th>3</th>\n",
       "      <td>..\\Data\\Italian\\f1\\dis-f1-d1.wav</td>\n",
       "      <td>disgust</td>\n",
       "      <td>1</td>\n",
       "      <td>0</td>\n",
       "    </tr>\n",
       "    <tr>\n",
       "      <th>4</th>\n",
       "      <td>..\\Data\\Italian\\f1\\dis-f1-d2.wav</td>\n",
       "      <td>disgust</td>\n",
       "      <td>1</td>\n",
       "      <td>0</td>\n",
       "    </tr>\n",
       "  </tbody>\n",
       "</table>\n",
       "</div>"
      ],
      "text/plain": [
       "                           filename  emotion  speaker_id  valence\n",
       "0  ..\\Data\\Italian\\f1\\dis-f1-b1.wav  disgust           1        0\n",
       "1  ..\\Data\\Italian\\f1\\dis-f1-b2.wav  disgust           1        0\n",
       "2  ..\\Data\\Italian\\f1\\dis-f1-b3.wav  disgust           1        0\n",
       "3  ..\\Data\\Italian\\f1\\dis-f1-d1.wav  disgust           1        0\n",
       "4  ..\\Data\\Italian\\f1\\dis-f1-d2.wav  disgust           1        0"
      ]
     },
     "execution_count": 19,
     "metadata": {},
     "output_type": "execute_result"
    }
   ],
   "source": [
    "# save the data as csv\n",
    "df.to_csv(\"../Data/Italian/data_path_italian.csv\",index=False)\n",
    "df.head()"
   ]
  },
  {
   "cell_type": "code",
   "execution_count": null,
   "metadata": {},
   "outputs": [],
   "source": []
  }
 ],
 "metadata": {
  "kernelspec": {
   "display_name": "Python 3",
   "language": "python",
   "name": "python3"
  },
  "language_info": {
   "codemirror_mode": {
    "name": "ipython",
    "version": 3
   },
   "file_extension": ".py",
   "mimetype": "text/x-python",
   "name": "python",
   "nbconvert_exporter": "python",
   "pygments_lexer": "ipython3",
   "version": "3.13.2"
  }
 },
 "nbformat": 4,
 "nbformat_minor": 2
}
