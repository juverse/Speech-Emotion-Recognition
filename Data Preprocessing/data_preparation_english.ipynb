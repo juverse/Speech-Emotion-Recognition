{
 "cells": [
  {
   "cell_type": "markdown",
   "metadata": {},
   "source": [
    "## Data Preparation English\n",
    "In this file, we prepare the English-language dataset for emotion analysis. \n",
    "We use the SAVEE dataset. Furthermore we analyze how emotions and speakers are distributed within the dataset.\n",
    "\n",
    "* Input: Audio files in the English language\n",
    "* Output: A structured dataframe containing: Categories (emotion labels), Speaker ID (unique identifier for each speaker), Data path (file path to the corresponding audio files), valence (positive/negative emotion)"
   ]
  },
  {
   "cell_type": "code",
   "execution_count": 2,
   "metadata": {},
   "outputs": [],
   "source": [
    "# dependecies\n",
    "import os\n",
    "import re\n",
    "import matplotlib.pyplot as plt\n",
    "import seaborn as sns\n",
    "import pandas as pd"
   ]
  },
  {
   "cell_type": "code",
   "execution_count": 3,
   "metadata": {},
   "outputs": [],
   "source": [
    "# Define the dataset directory\n",
    "savee_path = r\"..\\Data\\English\"\n",
    "\n",
    "\n",
    "# Mapping SAVEE filename encoding to emotions \n",
    "emotion_map = {\n",
    "    'a': 'anger',\n",
    "    'su': 'surprise',\n",
    "    'd': 'disgust',\n",
    "    'f': 'fear',\n",
    "    'h': 'happiness',\n",
    "    'sa': 'sadness',\n",
    "    'n': 'neutral'\n",
    "}\n",
    "\n",
    "data = []\n",
    "speaker_id = 0\n",
    "for speaker in os.listdir(savee_path):\n",
    "    speaker_path = os.path.join(savee_path, speaker)\n",
    "    if os.path.isdir(speaker_path):\n",
    "        speaker_id += 1\n",
    "        for filename in os.listdir(speaker_path):\n",
    "            file_path = os.path.join(speaker_path, filename)\n",
    "            if os.path.isfile(file_path) and re.match(r\"^[a-z]+\\d{2}.wav\", filename):\n",
    "                emotion = emotion_map[re.findall(\"[a-zA-Z]+\", filename)[0]]\n",
    "                data.append([file_path, emotion, speaker_id])\n",
    "\n"
   ]
  },
  {
   "cell_type": "code",
   "execution_count": 4,
   "metadata": {},
   "outputs": [
    {
     "data": {
      "text/html": [
       "<div>\n",
       "<style scoped>\n",
       "    .dataframe tbody tr th:only-of-type {\n",
       "        vertical-align: middle;\n",
       "    }\n",
       "\n",
       "    .dataframe tbody tr th {\n",
       "        vertical-align: top;\n",
       "    }\n",
       "\n",
       "    .dataframe thead th {\n",
       "        text-align: right;\n",
       "    }\n",
       "</style>\n",
       "<table border=\"1\" class=\"dataframe\">\n",
       "  <thead>\n",
       "    <tr style=\"text-align: right;\">\n",
       "      <th></th>\n",
       "      <th>filename</th>\n",
       "      <th>emotion</th>\n",
       "      <th>speaker_id</th>\n",
       "    </tr>\n",
       "  </thead>\n",
       "  <tbody>\n",
       "    <tr>\n",
       "      <th>0</th>\n",
       "      <td>..\\Data\\English\\DC\\a01.wav</td>\n",
       "      <td>anger</td>\n",
       "      <td>2</td>\n",
       "    </tr>\n",
       "    <tr>\n",
       "      <th>1</th>\n",
       "      <td>..\\Data\\English\\DC\\a02.wav</td>\n",
       "      <td>anger</td>\n",
       "      <td>2</td>\n",
       "    </tr>\n",
       "    <tr>\n",
       "      <th>2</th>\n",
       "      <td>..\\Data\\English\\DC\\a03.wav</td>\n",
       "      <td>anger</td>\n",
       "      <td>2</td>\n",
       "    </tr>\n",
       "    <tr>\n",
       "      <th>3</th>\n",
       "      <td>..\\Data\\English\\DC\\a04.wav</td>\n",
       "      <td>anger</td>\n",
       "      <td>2</td>\n",
       "    </tr>\n",
       "    <tr>\n",
       "      <th>4</th>\n",
       "      <td>..\\Data\\English\\DC\\a05.wav</td>\n",
       "      <td>anger</td>\n",
       "      <td>2</td>\n",
       "    </tr>\n",
       "  </tbody>\n",
       "</table>\n",
       "</div>"
      ],
      "text/plain": [
       "                     filename emotion  speaker_id\n",
       "0  ..\\Data\\English\\DC\\a01.wav   anger           2\n",
       "1  ..\\Data\\English\\DC\\a02.wav   anger           2\n",
       "2  ..\\Data\\English\\DC\\a03.wav   anger           2\n",
       "3  ..\\Data\\English\\DC\\a04.wav   anger           2\n",
       "4  ..\\Data\\English\\DC\\a05.wav   anger           2"
      ]
     },
     "execution_count": 4,
     "metadata": {},
     "output_type": "execute_result"
    }
   ],
   "source": [
    "# Create a DataFrame\n",
    "df = pd.DataFrame(data, columns= ['filename', 'emotion', 'speaker_id'])\n",
    "df.head()"
   ]
  },
  {
   "cell_type": "code",
   "execution_count": 5,
   "metadata": {},
   "outputs": [
    {
     "data": {
      "text/plain": [
       "4"
      ]
     },
     "execution_count": 5,
     "metadata": {},
     "output_type": "execute_result"
    }
   ],
   "source": [
    "# counts of speakers\n",
    "df[\"speaker_id\"].nunique()"
   ]
  },
  {
   "cell_type": "code",
   "execution_count": 6,
   "metadata": {},
   "outputs": [
    {
     "data": {
      "text/plain": [
       "speaker_id\n",
       "2    120\n",
       "3    120\n",
       "4    120\n",
       "5    120\n",
       "Name: count, dtype: int64"
      ]
     },
     "execution_count": 6,
     "metadata": {},
     "output_type": "execute_result"
    }
   ],
   "source": [
    "# speaker distribution\n",
    "speaker_distribution = df[\"speaker_id\"].value_counts()\n",
    "speaker_distribution\n"
   ]
  },
  {
   "cell_type": "markdown",
   "metadata": {},
   "source": [
    "We have 10 speakers and the speaker distribution looks good as they all have a similar amount of audio files."
   ]
  },
  {
   "cell_type": "code",
   "execution_count": 7,
   "metadata": {},
   "outputs": [
    {
     "data": {
      "text/plain": [
       "emotion\n",
       "neutral      120\n",
       "disgust       60\n",
       "anger         60\n",
       "fear          60\n",
       "happiness     60\n",
       "sadness       60\n",
       "surprise      60\n",
       "Name: count, dtype: int64"
      ]
     },
     "execution_count": 7,
     "metadata": {},
     "output_type": "execute_result"
    }
   ],
   "source": [
    "# Count occurrences of each emotion\n",
    "emotion_counts = df['emotion'].value_counts()\n",
    "emotion_counts"
   ]
  },
  {
   "cell_type": "code",
   "execution_count": 8,
   "metadata": {},
   "outputs": [
    {
     "name": "stderr",
     "output_type": "stream",
     "text": [
      "C:\\Users\\Julia\\AppData\\Local\\Temp\\ipykernel_8556\\1201212790.py:3: FutureWarning: \n",
      "\n",
      "Passing `palette` without assigning `hue` is deprecated and will be removed in v0.14.0. Assign the `x` variable to `hue` and set `legend=False` for the same effect.\n",
      "\n",
      "  sns.barplot(x=emotion_counts.index, y=emotion_counts.values, palette=\"viridis\")\n"
     ]
    },
    {
     "data": {
      "image/png": "[encoded data removed]",
      "text/plain": [
       "<Figure size 800x600 with 1 Axes>"
      ]
     },
     "metadata": {},
     "output_type": "display_data"
    }
   ],
   "source": [
    "# plot distribution of emotions\n",
    "plt.figure(figsize=(8, 6))\n",
    "sns.barplot(x=emotion_counts.index, y=emotion_counts.values, palette=\"viridis\")\n",
    "plt.xlabel(\"Emotions\")\n",
    "plt.ylabel(\"Count\")\n",
    "plt.title(\"Count of Emotions (English)\")\n",
    "plt.show()"
   ]
  },
  {
   "cell_type": "markdown",
   "metadata": {},
   "source": [
    "This chart shows how many times each emotion appears in the English dataset. The neutral emotion appears the most, much more than the others. The other emotions (like happiness, sadness, and anger) occur the same number of times."
   ]
  },
  {
   "cell_type": "code",
   "execution_count": 9,
   "metadata": {},
   "outputs": [],
   "source": [
    "# Encoding labels to 0 and 1\n",
    "# Mapping dictionary\n",
    "# positive: 1\n",
    "# negative: 0\n",
    "valence_map = {\n",
    "    'anger': 0,\n",
    "    'surprise': 1,\n",
    "    'disgust': 0,\n",
    "    'fear': 0,\n",
    "    'happiness': 1,\n",
    "    'sadness': 0,\n",
    "    'neutral': 1\n",
    "}\n",
    "\n",
    "# Map emotions to Positive/Negative\n",
    "df['valence'] = df['emotion'].map(valence_map)"
   ]
  },
  {
   "cell_type": "markdown",
   "metadata": {},
   "source": [
    "We mapped positive and negative valence exactly as described in the original paper.\n",
    "Emotion detection is a complex and nuanced topic, and reducing it solely to valence (positive/negative) is undeniably reductive — and we fully acknowledge that. However, we adopted this approach in order to replicate the original study.\n",
    "Binary valence labels are also quite common in emotion mapping, especially as a starting point.\n",
    "Nonetheless, this limitation will be explicitly addressed in the outlook section.\n"
   ]
  },
  {
   "cell_type": "code",
   "execution_count": 10,
   "metadata": {},
   "outputs": [
    {
     "data": {
      "text/html": [
       "<div>\n",
       "<style scoped>\n",
       "    .dataframe tbody tr th:only-of-type {\n",
       "        vertical-align: middle;\n",
       "    }\n",
       "\n",
       "    .dataframe tbody tr th {\n",
       "        vertical-align: top;\n",
       "    }\n",
       "\n",
       "    .dataframe thead th {\n",
       "        text-align: right;\n",
       "    }\n",
       "</style>\n",
       "<table border=\"1\" class=\"dataframe\">\n",
       "  <thead>\n",
       "    <tr style=\"text-align: right;\">\n",
       "      <th></th>\n",
       "      <th>filename</th>\n",
       "      <th>emotion</th>\n",
       "      <th>speaker_id</th>\n",
       "      <th>valence</th>\n",
       "    </tr>\n",
       "  </thead>\n",
       "  <tbody>\n",
       "    <tr>\n",
       "      <th>0</th>\n",
       "      <td>..\\Data\\English\\DC\\a01.wav</td>\n",
       "      <td>anger</td>\n",
       "      <td>2</td>\n",
       "      <td>0</td>\n",
       "    </tr>\n",
       "    <tr>\n",
       "      <th>1</th>\n",
       "      <td>..\\Data\\English\\DC\\a02.wav</td>\n",
       "      <td>anger</td>\n",
       "      <td>2</td>\n",
       "      <td>0</td>\n",
       "    </tr>\n",
       "    <tr>\n",
       "      <th>2</th>\n",
       "      <td>..\\Data\\English\\DC\\a03.wav</td>\n",
       "      <td>anger</td>\n",
       "      <td>2</td>\n",
       "      <td>0</td>\n",
       "    </tr>\n",
       "    <tr>\n",
       "      <th>3</th>\n",
       "      <td>..\\Data\\English\\DC\\a04.wav</td>\n",
       "      <td>anger</td>\n",
       "      <td>2</td>\n",
       "      <td>0</td>\n",
       "    </tr>\n",
       "    <tr>\n",
       "      <th>4</th>\n",
       "      <td>..\\Data\\English\\DC\\a05.wav</td>\n",
       "      <td>anger</td>\n",
       "      <td>2</td>\n",
       "      <td>0</td>\n",
       "    </tr>\n",
       "  </tbody>\n",
       "</table>\n",
       "</div>"
      ],
      "text/plain": [
       "                     filename emotion  speaker_id  valence\n",
       "0  ..\\Data\\English\\DC\\a01.wav   anger           2        0\n",
       "1  ..\\Data\\English\\DC\\a02.wav   anger           2        0\n",
       "2  ..\\Data\\English\\DC\\a03.wav   anger           2        0\n",
       "3  ..\\Data\\English\\DC\\a04.wav   anger           2        0\n",
       "4  ..\\Data\\English\\DC\\a05.wav   anger           2        0"
      ]
     },
     "execution_count": 10,
     "metadata": {},
     "output_type": "execute_result"
    }
   ],
   "source": [
    "# save the data as csv\n",
    "df.to_csv(\"../Data/English/data_path_english.csv\",index=False)\n",
    "df.head()"
   ]
  },
  {
   "cell_type": "code",
   "execution_count": null,
   "metadata": {},
   "outputs": [],
   "source": []
  }
 ],
 "metadata": {
  "kernelspec": {
   "display_name": "Python 3",
   "language": "python",
   "name": "python3"
  },
  "language_info": {
   "codemirror_mode": {
    "name": "ipython",
    "version": 3
   },
   "file_extension": ".py",
   "mimetype": "text/x-python",
   "name": "python",
   "nbconvert_exporter": "python",
   "pygments_lexer": "ipython3",
   "version": "3.11.9"
  }
 },
 "nbformat": 4,
 "nbformat_minor": 2
}
