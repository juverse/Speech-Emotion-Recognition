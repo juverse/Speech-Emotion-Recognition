{
 "cells": [
  {
   "cell_type": "markdown",
   "metadata": {},
   "source": [
    "## Data Preparation German\n",
    "output: dataframe with catagories, speaker_id and data_path"
   ]
  },
  {
   "cell_type": "code",
   "execution_count": 1,
   "metadata": {},
   "outputs": [],
   "source": [
    "# dependecies\n",
    "import glob\n",
    "import os\n",
    "import matplotlib.pyplot as plt\n",
    "import seaborn as sns\n",
    "import pandas as pd"
   ]
  },
  {
   "cell_type": "code",
   "execution_count": 2,
   "metadata": {},
   "outputs": [],
   "source": [
    "# Define the dataset directory\n",
    "emodb_path = r\"..\\Data\\German\\wav\"\n",
    "\n",
    "\n",
    "# Mapping EmoDB filename encoding to emotions \n",
    "emotion_map = {\n",
    "    'W': 'anger',\n",
    "    'L': 'boredom',\n",
    "    'E': 'disgust',\n",
    "    'A': 'fear',\n",
    "    'F': 'happiness',\n",
    "    'T': 'sadness',\n",
    "    'N': 'neutral'\n",
    "}\n",
    "\n",
    "# Extract emotion labels from filenames\n",
    "filenames = glob.glob(os.path.join(emodb_path, \"*.wav\"))\n",
    "emotion = [emotion_map[os.path.basename(f)[5]] for f in filenames if len(os.path.basename(f)) > 5 and os.path.basename(f)[5] in emotion_map]\n",
    "speaker_id = [os.path.basename(f)[0:2] for f in filenames]"
   ]
  },
  {
   "cell_type": "code",
   "execution_count": 3,
   "metadata": {},
   "outputs": [
    {
     "data": {
      "text/html": [
       "<div>\n",
       "<style scoped>\n",
       "    .dataframe tbody tr th:only-of-type {\n",
       "        vertical-align: middle;\n",
       "    }\n",
       "\n",
       "    .dataframe tbody tr th {\n",
       "        vertical-align: top;\n",
       "    }\n",
       "\n",
       "    .dataframe thead th {\n",
       "        text-align: right;\n",
       "    }\n",
       "</style>\n",
       "<table border=\"1\" class=\"dataframe\">\n",
       "  <thead>\n",
       "    <tr style=\"text-align: right;\">\n",
       "      <th></th>\n",
       "      <th>filename</th>\n",
       "      <th>emotion</th>\n",
       "      <th>speaker_id</th>\n",
       "    </tr>\n",
       "  </thead>\n",
       "  <tbody>\n",
       "    <tr>\n",
       "      <th>0</th>\n",
       "      <td>..\\Data\\German\\wav\\03a01Fa.wav</td>\n",
       "      <td>happiness</td>\n",
       "      <td>03</td>\n",
       "    </tr>\n",
       "    <tr>\n",
       "      <th>1</th>\n",
       "      <td>..\\Data\\German\\wav\\03a01Nc.wav</td>\n",
       "      <td>neutral</td>\n",
       "      <td>03</td>\n",
       "    </tr>\n",
       "    <tr>\n",
       "      <th>2</th>\n",
       "      <td>..\\Data\\German\\wav\\03a01Wa.wav</td>\n",
       "      <td>anger</td>\n",
       "      <td>03</td>\n",
       "    </tr>\n",
       "    <tr>\n",
       "      <th>3</th>\n",
       "      <td>..\\Data\\German\\wav\\03a02Fc.wav</td>\n",
       "      <td>happiness</td>\n",
       "      <td>03</td>\n",
       "    </tr>\n",
       "    <tr>\n",
       "      <th>4</th>\n",
       "      <td>..\\Data\\German\\wav\\03a02Nc.wav</td>\n",
       "      <td>neutral</td>\n",
       "      <td>03</td>\n",
       "    </tr>\n",
       "  </tbody>\n",
       "</table>\n",
       "</div>"
      ],
      "text/plain": [
       "                         filename    emotion speaker_id\n",
       "0  ..\\Data\\German\\wav\\03a01Fa.wav  happiness         03\n",
       "1  ..\\Data\\German\\wav\\03a01Nc.wav    neutral         03\n",
       "2  ..\\Data\\German\\wav\\03a01Wa.wav      anger         03\n",
       "3  ..\\Data\\German\\wav\\03a02Fc.wav  happiness         03\n",
       "4  ..\\Data\\German\\wav\\03a02Nc.wav    neutral         03"
      ]
     },
     "execution_count": 3,
     "metadata": {},
     "output_type": "execute_result"
    }
   ],
   "source": [
    "# Create a DataFrame\n",
    "df = pd.DataFrame({\n",
    "    'filename': filenames,\n",
    "    'emotion': emotion,\n",
    "    'speaker_id': speaker_id\n",
    "})\n",
    "df.head()"
   ]
  },
  {
   "cell_type": "code",
   "execution_count": 4,
   "metadata": {},
   "outputs": [
    {
     "data": {
      "text/plain": [
       "10"
      ]
     },
     "execution_count": 4,
     "metadata": {},
     "output_type": "execute_result"
    }
   ],
   "source": [
    "# counts of speakers\n",
    "df[\"speaker_id\"].nunique()"
   ]
  },
  {
   "cell_type": "code",
   "execution_count": 5,
   "metadata": {},
   "outputs": [
    {
     "data": {
      "text/plain": [
       "speaker_id\n",
       "16    71\n",
       "14    69\n",
       "13    61\n",
       "08    58\n",
       "15    56\n",
       "11    55\n",
       "03    49\n",
       "09    43\n",
       "10    38\n",
       "12    35\n",
       "Name: count, dtype: int64"
      ]
     },
     "execution_count": 5,
     "metadata": {},
     "output_type": "execute_result"
    }
   ],
   "source": [
    "# speaker distribution\n",
    "speaker_distribution = df[\"speaker_id\"].value_counts()\n",
    "speaker_distribution\n"
   ]
  },
  {
   "cell_type": "markdown",
   "metadata": {},
   "source": [
    "We have 10 speakers and the speaker distribution looks good as they all have a similar amount of audio files."
   ]
  },
  {
   "cell_type": "code",
   "execution_count": 6,
   "metadata": {},
   "outputs": [
    {
     "data": {
      "text/plain": [
       "emotion\n",
       "anger        127\n",
       "boredom       81\n",
       "neutral       79\n",
       "happiness     71\n",
       "fear          69\n",
       "sadness       62\n",
       "disgust       46\n",
       "Name: count, dtype: int64"
      ]
     },
     "execution_count": 6,
     "metadata": {},
     "output_type": "execute_result"
    }
   ],
   "source": [
    "# Count occurrences of each emotion\n",
    "emotion_counts = df['emotion'].value_counts()\n",
    "emotion_counts"
   ]
  },
  {
   "cell_type": "code",
   "execution_count": 7,
   "metadata": {},
   "outputs": [
    {
     "name": "stderr",
     "output_type": "stream",
     "text": [
      "C:\\Users\\david\\AppData\\Local\\Temp\\ipykernel_26544\\19157682.py:3: FutureWarning: \n",
      "\n",
      "Passing `palette` without assigning `hue` is deprecated and will be removed in v0.14.0. Assign the `x` variable to `hue` and set `legend=False` for the same effect.\n",
      "\n",
      "  sns.barplot(x=emotion_counts.index, y=emotion_counts.values, palette=\"viridis\")\n"
     ]
    },
    {
     "data": {
      "image/png": "[encoded data removed]",
      "text/plain": [
       "<Figure size 800x600 with 1 Axes>"
      ]
     },
     "metadata": {},
     "output_type": "display_data"
    }
   ],
   "source": [
    "# plot distribution of emotions\n",
    "plt.figure(figsize=(8, 6))\n",
    "sns.barplot(x=emotion_counts.index, y=emotion_counts.values, palette=\"viridis\")\n",
    "plt.xlabel(\"Emotions\")\n",
    "plt.ylabel(\"Count\")\n",
    "plt.title(\"Count of Emotions (EmoDB)\")\n",
    "plt.show()"
   ]
  },
  {
   "cell_type": "code",
   "execution_count": null,
   "metadata": {},
   "outputs": [],
   "source": [
    "# Encoding labels to 0 and 1\n",
    "# Mapping dictionary\n",
    "# positive: 1\n",
    "# negative: 0\n",
    "emotion_map = {\n",
    "    'happiness': 1,\n",
    "    'neutral': 1,\n",
    "    'sadness': 0,\n",
    "    'anger': 0,\n",
    "    'disgust': 0,\n",
    "    'fear': 0,\n",
    "    'boredom': 0\n",
    "}\n",
    "\n",
    "# Map emotions to Positive/Negative\n",
    "df['valence'] = df['emotion'].map(emotion_map)"
   ]
  },
  {
   "cell_type": "code",
   "execution_count": 9,
   "metadata": {},
   "outputs": [
    {
     "data": {
      "text/html": [
       "<div>\n",
       "<style scoped>\n",
       "    .dataframe tbody tr th:only-of-type {\n",
       "        vertical-align: middle;\n",
       "    }\n",
       "\n",
       "    .dataframe tbody tr th {\n",
       "        vertical-align: top;\n",
       "    }\n",
       "\n",
       "    .dataframe thead th {\n",
       "        text-align: right;\n",
       "    }\n",
       "</style>\n",
       "<table border=\"1\" class=\"dataframe\">\n",
       "  <thead>\n",
       "    <tr style=\"text-align: right;\">\n",
       "      <th></th>\n",
       "      <th>filename</th>\n",
       "      <th>emotion</th>\n",
       "      <th>speaker_id</th>\n",
       "      <th>valence</th>\n",
       "    </tr>\n",
       "  </thead>\n",
       "  <tbody>\n",
       "    <tr>\n",
       "      <th>0</th>\n",
       "      <td>..\\Data\\German\\wav\\03a01Fa.wav</td>\n",
       "      <td>happiness</td>\n",
       "      <td>03</td>\n",
       "      <td>1</td>\n",
       "    </tr>\n",
       "    <tr>\n",
       "      <th>1</th>\n",
       "      <td>..\\Data\\German\\wav\\03a01Nc.wav</td>\n",
       "      <td>neutral</td>\n",
       "      <td>03</td>\n",
       "      <td>1</td>\n",
       "    </tr>\n",
       "    <tr>\n",
       "      <th>2</th>\n",
       "      <td>..\\Data\\German\\wav\\03a01Wa.wav</td>\n",
       "      <td>anger</td>\n",
       "      <td>03</td>\n",
       "      <td>0</td>\n",
       "    </tr>\n",
       "    <tr>\n",
       "      <th>3</th>\n",
       "      <td>..\\Data\\German\\wav\\03a02Fc.wav</td>\n",
       "      <td>happiness</td>\n",
       "      <td>03</td>\n",
       "      <td>1</td>\n",
       "    </tr>\n",
       "    <tr>\n",
       "      <th>4</th>\n",
       "      <td>..\\Data\\German\\wav\\03a02Nc.wav</td>\n",
       "      <td>neutral</td>\n",
       "      <td>03</td>\n",
       "      <td>1</td>\n",
       "    </tr>\n",
       "  </tbody>\n",
       "</table>\n",
       "</div>"
      ],
      "text/plain": [
       "                         filename    emotion speaker_id  valence\n",
       "0  ..\\Data\\German\\wav\\03a01Fa.wav  happiness         03        1\n",
       "1  ..\\Data\\German\\wav\\03a01Nc.wav    neutral         03        1\n",
       "2  ..\\Data\\German\\wav\\03a01Wa.wav      anger         03        0\n",
       "3  ..\\Data\\German\\wav\\03a02Fc.wav  happiness         03        1\n",
       "4  ..\\Data\\German\\wav\\03a02Nc.wav    neutral         03        1"
      ]
     },
     "execution_count": 9,
     "metadata": {},
     "output_type": "execute_result"
    }
   ],
   "source": [
    "# save the data as csv\n",
    "df.to_csv(\"../Data/German/data_path_german.csv\",index=False)\n",
    "df.head()"
   ]
  },
  {
   "cell_type": "code",
   "execution_count": null,
   "metadata": {},
   "outputs": [],
   "source": []
  }
 ],
 "metadata": {
  "kernelspec": {
   "display_name": "Python 3",
   "language": "python",
   "name": "python3"
  },
  "language_info": {
   "codemirror_mode": {
    "name": "ipython",
    "version": 3
   },
   "file_extension": ".py",
   "mimetype": "text/x-python",
   "name": "python",
   "nbconvert_exporter": "python",
   "pygments_lexer": "ipython3",
   "version": "3.13.2"
  }
 },
 "nbformat": 4,
 "nbformat_minor": 2
}
