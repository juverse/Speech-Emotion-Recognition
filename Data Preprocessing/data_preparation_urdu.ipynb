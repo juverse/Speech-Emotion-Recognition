{
 "cells": [
  {
   "cell_type": "markdown",
   "metadata": {},
   "source": [
    "###  Data Preparation Urdu\n",
    "In this file, we prepare the Urdu-language dataset for emotion analysis. We used te dataset from the paper. We analyze how emotions and speakers are distributed within the dataset\n",
    "\n",
    "* Input: Audio files in the Urdu language\n",
    "* Output: A structured dataframe containing: Categories (emotion labels), Speaker ID (unique identifier for each speaker), Data path (file path to the corresponding audio files), valence (positive/negative emotion)"
   ]
  },
  {
   "cell_type": "code",
   "execution_count": 1,
   "metadata": {},
   "outputs": [],
   "source": [
    "# dependencies\n",
    "import os\n",
    "import re\n",
    "import pandas as pd\n",
    "import matplotlib.pyplot as plt\n",
    "import seaborn as sns"
   ]
  },
  {
   "cell_type": "code",
   "execution_count": 2,
   "metadata": {},
   "outputs": [],
   "source": [
    "# Define the dataset directory\n",
    "urdu_path = r\"..\\Data\\Urdu\""
   ]
  },
  {
   "cell_type": "code",
   "execution_count": 3,
   "metadata": {},
   "outputs": [],
   "source": [
    "data = []\n",
    "\n",
    "# Iterate through the emotions\n",
    "for emotion in os.listdir(urdu_path):\n",
    "    emotion_path = os.path.join(urdu_path, emotion)\n",
    "    if os.path.isdir(emotion_path):\n",
    "        for filename in os.listdir(emotion_path):\n",
    "            file_path = os.path.join(emotion_path, filename)\n",
    "            if os.path.isfile(file_path):\n",
    "                parts = filename.split('_')\n",
    "                if len(parts) == 3 and re.match(r\"S[MF]\\d{1,2}\", parts[0]):\n",
    "                    if \"M\" in parts[0]:\n",
    "                        speaker_id = int(parts[0][2:]) + 11\n",
    "                    else:\n",
    "                        speaker_id = int(parts[0][2:])  # Extracts X (1 or 2 digits after gender)\n",
    "                    data.append([file_path, emotion, speaker_id])"
   ]
  },
  {
   "cell_type": "code",
   "execution_count": 4,
   "metadata": {},
   "outputs": [],
   "source": [
    "# Create a DataFrame\n",
    "df = pd.DataFrame(data, columns=['filename', 'emotion', 'speaker_id'])\n"
   ]
  },
  {
   "cell_type": "code",
   "execution_count": 5,
   "metadata": {},
   "outputs": [
    {
     "data": {
      "text/plain": [
       "29"
      ]
     },
     "execution_count": 5,
     "metadata": {},
     "output_type": "execute_result"
    }
   ],
   "source": [
    "# counts of speakers\n",
    "df[\"speaker_id\"].nunique()"
   ]
  },
  {
   "cell_type": "code",
   "execution_count": 6,
   "metadata": {},
   "outputs": [
    {
     "data": {
      "text/plain": [
       "speaker_id\n",
       "16    80\n",
       "15    48\n",
       "36    40\n",
       "35    38\n",
       "13    28\n",
       "18    28\n",
       "12    22\n",
       "6     14\n",
       "17    14\n",
       "1     12\n",
       "14    12\n",
       "31    10\n",
       "7      6\n",
       "34     6\n",
       "11     4\n",
       "38     4\n",
       "9      4\n",
       "4      4\n",
       "5      4\n",
       "32     4\n",
       "2      2\n",
       "28     2\n",
       "8      2\n",
       "3      2\n",
       "29     2\n",
       "30     2\n",
       "10     2\n",
       "33     2\n",
       "37     2\n",
       "Name: count, dtype: int64"
      ]
     },
     "execution_count": 6,
     "metadata": {},
     "output_type": "execute_result"
    }
   ],
   "source": [
    "# speaker distribution\n",
    "speaker_distribution = df[\"speaker_id\"].value_counts()\n",
    "speaker_distribution\n"
   ]
  },
  {
   "cell_type": "markdown",
   "metadata": {},
   "source": [
    "Speakers are missing; we do not have 38 as stated in the paper, and the number of samples per speaker varies significantly."
   ]
  },
  {
   "cell_type": "code",
   "execution_count": 7,
   "metadata": {},
   "outputs": [
    {
     "name": "stderr",
     "output_type": "stream",
     "text": [
      "C:\\Users\\david\\AppData\\Local\\Temp\\ipykernel_21052\\2389859790.py:5: FutureWarning: \n",
      "\n",
      "Passing `palette` without assigning `hue` is deprecated and will be removed in v0.14.0. Assign the `x` variable to `hue` and set `legend=False` for the same effect.\n",
      "\n",
      "  sns.barplot(x=emotion_counts.index, y=emotion_counts.values, palette=\"viridis\")\n"
     ]
    },
    {
     "data": {
      "image/png": "[encoded data removed]",
      "text/plain": [
       "<Figure size 800x600 with 1 Axes>"
      ]
     },
     "metadata": {},
     "output_type": "display_data"
    }
   ],
   "source": [
    "# Count occurrences of each emotion\n",
    "emotion_counts = df['emotion'].value_counts()\n",
    "\n",
    "plt.figure(figsize=(8, 6))\n",
    "sns.barplot(x=emotion_counts.index, y=emotion_counts.values, palette=\"viridis\")\n",
    "plt.xlabel(\"Emotions\")\n",
    "plt.ylabel(\"Count\")\n",
    "plt.title(\"Count of Emotions (URDU)\")\n",
    "plt.show()"
   ]
  },
  {
   "cell_type": "markdown",
   "metadata": {},
   "source": [
    "This chart shows how many times each emotion appears in the urdu dataset. All emotions occur the same number of times."
   ]
  },
  {
   "cell_type": "code",
   "execution_count": null,
   "metadata": {},
   "outputs": [],
   "source": [
    "# Encoding labels to 0 and 1\n",
    "# Mapping dictionary\n",
    "# posittive: 1\n",
    "# negative. 0\n",
    "emotion_map = {\n",
    "    'Happy': 1,\n",
    "    'Neutral': 1,\n",
    "    'Sad': 0,\n",
    "    'Angry': 0\n",
    "}"
   ]
  },
  {
   "cell_type": "code",
   "execution_count": 9,
   "metadata": {},
   "outputs": [],
   "source": [
    "# Map emotions to Positive/Negative\n",
    "df['valence'] = df['emotion'].map(emotion_map)"
   ]
  },
  {
   "cell_type": "markdown",
   "metadata": {},
   "source": [
    "We mapped positive and negative valence exactly as described in the original paper.\n",
    "Emotion detection is a complex and nuanced topic, and reducing it solely to valence (positive/negative) is undeniably reductive — and we fully acknowledge that. However, we adopted this approach in order to replicate the original study.\n",
    "Binary valence labels are also quite common in emotion mapping, especially as a starting point.\n",
    "Nonetheless, this limitation will be explicitly addressed in the outlook section.\n"
   ]
  },
  {
   "cell_type": "code",
   "execution_count": 10,
   "metadata": {},
   "outputs": [
    {
     "data": {
      "text/html": [
       "<div>\n",
       "<style scoped>\n",
       "    .dataframe tbody tr th:only-of-type {\n",
       "        vertical-align: middle;\n",
       "    }\n",
       "\n",
       "    .dataframe tbody tr th {\n",
       "        vertical-align: top;\n",
       "    }\n",
       "\n",
       "    .dataframe thead th {\n",
       "        text-align: right;\n",
       "    }\n",
       "</style>\n",
       "<table border=\"1\" class=\"dataframe\">\n",
       "  <thead>\n",
       "    <tr style=\"text-align: right;\">\n",
       "      <th></th>\n",
       "      <th>filename</th>\n",
       "      <th>emotion</th>\n",
       "      <th>speaker_id</th>\n",
       "      <th>valence</th>\n",
       "    </tr>\n",
       "  </thead>\n",
       "  <tbody>\n",
       "    <tr>\n",
       "      <th>0</th>\n",
       "      <td>..\\Data\\Urdu\\Angry\\SM1_F10_A010.wav</td>\n",
       "      <td>Angry</td>\n",
       "      <td>12</td>\n",
       "      <td>0</td>\n",
       "    </tr>\n",
       "    <tr>\n",
       "      <th>1</th>\n",
       "      <td>..\\Data\\Urdu\\Angry\\SM1_F11_A011.wav</td>\n",
       "      <td>Angry</td>\n",
       "      <td>12</td>\n",
       "      <td>0</td>\n",
       "    </tr>\n",
       "    <tr>\n",
       "      <th>2</th>\n",
       "      <td>..\\Data\\Urdu\\Angry\\SM1_F12_A012.wav</td>\n",
       "      <td>Angry</td>\n",
       "      <td>12</td>\n",
       "      <td>0</td>\n",
       "    </tr>\n",
       "    <tr>\n",
       "      <th>3</th>\n",
       "      <td>..\\Data\\Urdu\\Angry\\SM1_F13_A013.wav</td>\n",
       "      <td>Angry</td>\n",
       "      <td>12</td>\n",
       "      <td>0</td>\n",
       "    </tr>\n",
       "    <tr>\n",
       "      <th>4</th>\n",
       "      <td>..\\Data\\Urdu\\Angry\\SM1_F14_A014.wav</td>\n",
       "      <td>Angry</td>\n",
       "      <td>12</td>\n",
       "      <td>0</td>\n",
       "    </tr>\n",
       "    <tr>\n",
       "      <th>...</th>\n",
       "      <td>...</td>\n",
       "      <td>...</td>\n",
       "      <td>...</td>\n",
       "      <td>...</td>\n",
       "    </tr>\n",
       "    <tr>\n",
       "      <th>395</th>\n",
       "      <td>..\\Data\\Urdu\\Sad\\SM27_F4_S096.wav</td>\n",
       "      <td>Sad</td>\n",
       "      <td>38</td>\n",
       "      <td>0</td>\n",
       "    </tr>\n",
       "    <tr>\n",
       "      <th>396</th>\n",
       "      <td>..\\Data\\Urdu\\Sad\\SM6_F1_S097.wav</td>\n",
       "      <td>Sad</td>\n",
       "      <td>17</td>\n",
       "      <td>0</td>\n",
       "    </tr>\n",
       "    <tr>\n",
       "      <th>397</th>\n",
       "      <td>..\\Data\\Urdu\\Sad\\SM6_F2_S098.wav</td>\n",
       "      <td>Sad</td>\n",
       "      <td>17</td>\n",
       "      <td>0</td>\n",
       "    </tr>\n",
       "    <tr>\n",
       "      <th>398</th>\n",
       "      <td>..\\Data\\Urdu\\Sad\\SM6_F3_S099.wav</td>\n",
       "      <td>Sad</td>\n",
       "      <td>17</td>\n",
       "      <td>0</td>\n",
       "    </tr>\n",
       "    <tr>\n",
       "      <th>399</th>\n",
       "      <td>..\\Data\\Urdu\\Sad\\SM6_F4_S0100.wav</td>\n",
       "      <td>Sad</td>\n",
       "      <td>17</td>\n",
       "      <td>0</td>\n",
       "    </tr>\n",
       "  </tbody>\n",
       "</table>\n",
       "<p>400 rows × 4 columns</p>\n",
       "</div>"
      ],
      "text/plain": [
       "                                filename emotion  speaker_id  valence\n",
       "0    ..\\Data\\Urdu\\Angry\\SM1_F10_A010.wav   Angry          12        0\n",
       "1    ..\\Data\\Urdu\\Angry\\SM1_F11_A011.wav   Angry          12        0\n",
       "2    ..\\Data\\Urdu\\Angry\\SM1_F12_A012.wav   Angry          12        0\n",
       "3    ..\\Data\\Urdu\\Angry\\SM1_F13_A013.wav   Angry          12        0\n",
       "4    ..\\Data\\Urdu\\Angry\\SM1_F14_A014.wav   Angry          12        0\n",
       "..                                   ...     ...         ...      ...\n",
       "395    ..\\Data\\Urdu\\Sad\\SM27_F4_S096.wav     Sad          38        0\n",
       "396     ..\\Data\\Urdu\\Sad\\SM6_F1_S097.wav     Sad          17        0\n",
       "397     ..\\Data\\Urdu\\Sad\\SM6_F2_S098.wav     Sad          17        0\n",
       "398     ..\\Data\\Urdu\\Sad\\SM6_F3_S099.wav     Sad          17        0\n",
       "399    ..\\Data\\Urdu\\Sad\\SM6_F4_S0100.wav     Sad          17        0\n",
       "\n",
       "[400 rows x 4 columns]"
      ]
     },
     "execution_count": 10,
     "metadata": {},
     "output_type": "execute_result"
    }
   ],
   "source": [
    "df"
   ]
  },
  {
   "cell_type": "code",
   "execution_count": 11,
   "metadata": {},
   "outputs": [
    {
     "data": {
      "text/html": [
       "<div>\n",
       "<style scoped>\n",
       "    .dataframe tbody tr th:only-of-type {\n",
       "        vertical-align: middle;\n",
       "    }\n",
       "\n",
       "    .dataframe tbody tr th {\n",
       "        vertical-align: top;\n",
       "    }\n",
       "\n",
       "    .dataframe thead th {\n",
       "        text-align: right;\n",
       "    }\n",
       "</style>\n",
       "<table border=\"1\" class=\"dataframe\">\n",
       "  <thead>\n",
       "    <tr style=\"text-align: right;\">\n",
       "      <th></th>\n",
       "      <th>filename</th>\n",
       "      <th>emotion</th>\n",
       "      <th>speaker_id</th>\n",
       "      <th>valence</th>\n",
       "    </tr>\n",
       "  </thead>\n",
       "  <tbody>\n",
       "    <tr>\n",
       "      <th>0</th>\n",
       "      <td>..\\Data\\Urdu\\Angry\\SM1_F10_A010.wav</td>\n",
       "      <td>Angry</td>\n",
       "      <td>12</td>\n",
       "      <td>0</td>\n",
       "    </tr>\n",
       "    <tr>\n",
       "      <th>1</th>\n",
       "      <td>..\\Data\\Urdu\\Angry\\SM1_F11_A011.wav</td>\n",
       "      <td>Angry</td>\n",
       "      <td>12</td>\n",
       "      <td>0</td>\n",
       "    </tr>\n",
       "    <tr>\n",
       "      <th>2</th>\n",
       "      <td>..\\Data\\Urdu\\Angry\\SM1_F12_A012.wav</td>\n",
       "      <td>Angry</td>\n",
       "      <td>12</td>\n",
       "      <td>0</td>\n",
       "    </tr>\n",
       "    <tr>\n",
       "      <th>3</th>\n",
       "      <td>..\\Data\\Urdu\\Angry\\SM1_F13_A013.wav</td>\n",
       "      <td>Angry</td>\n",
       "      <td>12</td>\n",
       "      <td>0</td>\n",
       "    </tr>\n",
       "    <tr>\n",
       "      <th>4</th>\n",
       "      <td>..\\Data\\Urdu\\Angry\\SM1_F14_A014.wav</td>\n",
       "      <td>Angry</td>\n",
       "      <td>12</td>\n",
       "      <td>0</td>\n",
       "    </tr>\n",
       "  </tbody>\n",
       "</table>\n",
       "</div>"
      ],
      "text/plain": [
       "                              filename emotion  speaker_id  valence\n",
       "0  ..\\Data\\Urdu\\Angry\\SM1_F10_A010.wav   Angry          12        0\n",
       "1  ..\\Data\\Urdu\\Angry\\SM1_F11_A011.wav   Angry          12        0\n",
       "2  ..\\Data\\Urdu\\Angry\\SM1_F12_A012.wav   Angry          12        0\n",
       "3  ..\\Data\\Urdu\\Angry\\SM1_F13_A013.wav   Angry          12        0\n",
       "4  ..\\Data\\Urdu\\Angry\\SM1_F14_A014.wav   Angry          12        0"
      ]
     },
     "execution_count": 11,
     "metadata": {},
     "output_type": "execute_result"
    }
   ],
   "source": [
    "# save the data as csv\n",
    "df.to_csv(\"../Data/Urdu/data_path_urdu.csv\",index=False)\n",
    "\n",
    "df.head()"
   ]
  },
  {
   "cell_type": "code",
   "execution_count": null,
   "metadata": {},
   "outputs": [],
   "source": []
  }
 ],
 "metadata": {
  "kernelspec": {
   "display_name": "Python 3",
   "language": "python",
   "name": "python3"
  },
  "language_info": {
   "codemirror_mode": {
    "name": "ipython",
    "version": 3
   },
   "file_extension": ".py",
   "mimetype": "text/x-python",
   "name": "python",
   "nbconvert_exporter": "python",
   "pygments_lexer": "ipython3",
   "version": "3.11.9"
  }
 },
 "nbformat": 4,
 "nbformat_minor": 2
}
