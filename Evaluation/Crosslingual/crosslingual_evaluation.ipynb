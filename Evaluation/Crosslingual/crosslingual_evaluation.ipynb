{
 "cells": [
  {
   "cell_type": "markdown",
   "metadata": {},
   "source": [
    "# Evaluation of Cross Lingual\n",
    "create plot to compare the different datasats and the different metrics"
   ]
  },
  {
   "cell_type": "code",
   "execution_count": 33,
   "metadata": {},
   "outputs": [],
   "source": [
    "# dependecies\n",
    "import pandas as pd\n",
    "import seaborn as sns\n",
    "import matplotlib.pyplot as plt\n",
    "import numpy as np\n"
   ]
  },
  {
   "cell_type": "code",
   "execution_count": 34,
   "metadata": {},
   "outputs": [],
   "source": [
    "# data\n",
    "\n",
    "# testing with urdu\n",
    "train_english_test_urdu = pd.read_csv('train_english_test_urdu.csv')\n",
    "train_german_test_urdu = pd.read_csv('train_german_test_urdu.csv')\n",
    "train_italian_test_urdu = pd.read_csv('train_italian_test_urdu.csv')\n",
    "\n",
    "# training with urdu\n",
    "train_urdu_test_english = pd.read_csv('train_urdu_test_english.csv')\n",
    "train_urdu_test_german = pd.read_csv('train_urdu_test_german.csv')\n",
    "train_urdu_test_italian = pd.read_csv('train_urdu_test_italian.csv')\n",
    "df_melted = train_english_test_urdu.melt(id_vars=\"Model\", var_name=\"Metric\", value_name=\"Score\")\n",
    "\n",
    "# baselines\n",
    "baseline_english = pd.read_csv(r'..\\Baseline\\english_results.csv') \n",
    "baseline_german = pd.read_csv(r'..\\Baseline\\german_results.csv')\n",
    "baseline_italian = pd.read_csv(r'..\\Baseline\\italian_results.csv')\n",
    "baseline_urdu = pd.read_csv(r'..\\Baseline\\urdu_results.csv')\n"
   ]
  },
  {
   "cell_type": "code",
   "execution_count": 35,
   "metadata": {},
   "outputs": [],
   "source": [
    "# Melt the DataFrame to long format for easier plotting\n",
    "train_english_test_urdu = train_english_test_urdu.melt(id_vars=\"Model\", var_name=\"Metric\", value_name=\"Score\")\n",
    "train_german_test_urdu = train_german_test_urdu.melt(id_vars=\"Model\", var_name=\"Metric\", value_name=\"Score\")\n",
    "train_italian_test_urdu = train_italian_test_urdu.melt(id_vars=\"Model\", var_name=\"Metric\", value_name=\"Score\")\n",
    "\n",
    "train_urdu_test_english = train_urdu_test_english.melt(id_vars=\"Model\", var_name=\"Metric\", value_name=\"Score\")\n",
    "train_urdu_test_german = train_urdu_test_german.melt(id_vars=\"Model\", var_name=\"Metric\", value_name=\"Score\")\n",
    "train_urdu_test_italian = train_urdu_test_italian.melt(id_vars=\"Model\", var_name=\"Metric\", value_name=\"Score\")\n",
    "\n"
   ]
  },
  {
   "cell_type": "code",
   "execution_count": 36,
   "metadata": {},
   "outputs": [],
   "source": [
    "# combine dataframes\n",
    "dfs = [baseline_german, baseline_english, baseline_italian, baseline_urdu]\n",
    "names = ['German', 'English', 'Italian', 'Urdu']\n",
    "combined_df_baseline = pd.concat(\n",
    "        [df.assign(Dataset=name) for df, name in zip(dfs, names)],\n",
    "        ignore_index=True\n",
    "    )\n",
    "\n",
    "# combine dataframes\n",
    "df_test_urdu = [train_german_test_urdu, train_english_test_urdu, train_italian_test_urdu]\n",
    "names = ['German', 'English', 'Italian']\n",
    "combined_dfs_test_urdu = pd.concat(\n",
    "        [df.assign(Dataset=name) for df, name in zip(df_test_urdu, names)],\n",
    "        ignore_index=True\n",
    "    )\n",
    "\n",
    "df_train_urdu = [train_urdu_test_english, train_urdu_test_german, train_urdu_test_italian]\n",
    "names = ['English', 'German', 'Italian']\n",
    "combined_dfs_train_urdu = pd.concat(\n",
    "        [df.assign(Dataset=name) for df, name in zip(df_train_urdu, names)],\n",
    "        ignore_index=True\n",
    "    )"
   ]
  },
  {
   "cell_type": "code",
   "execution_count": 37,
   "metadata": {},
   "outputs": [
    {
     "data": {
      "text/html": [
       "<div>\n",
       "<style scoped>\n",
       "    .dataframe tbody tr th:only-of-type {\n",
       "        vertical-align: middle;\n",
       "    }\n",
       "\n",
       "    .dataframe tbody tr th {\n",
       "        vertical-align: top;\n",
       "    }\n",
       "\n",
       "    .dataframe thead th {\n",
       "        text-align: right;\n",
       "    }\n",
       "</style>\n",
       "<table border=\"1\" class=\"dataframe\">\n",
       "  <thead>\n",
       "    <tr style=\"text-align: right;\">\n",
       "      <th></th>\n",
       "      <th>Model</th>\n",
       "      <th>Metric</th>\n",
       "      <th>Score</th>\n",
       "      <th>Dataset</th>\n",
       "    </tr>\n",
       "  </thead>\n",
       "  <tbody>\n",
       "    <tr>\n",
       "      <th>0</th>\n",
       "      <td>SVM (linear)</td>\n",
       "      <td>Accuracy</td>\n",
       "      <td>0.510417</td>\n",
       "      <td>English</td>\n",
       "    </tr>\n",
       "    <tr>\n",
       "      <th>1</th>\n",
       "      <td>SVM (rbf)</td>\n",
       "      <td>Accuracy</td>\n",
       "      <td>0.543750</td>\n",
       "      <td>English</td>\n",
       "    </tr>\n",
       "    <tr>\n",
       "      <th>2</th>\n",
       "      <td>Logistic Regression</td>\n",
       "      <td>Accuracy</td>\n",
       "      <td>0.512500</td>\n",
       "      <td>English</td>\n",
       "    </tr>\n",
       "    <tr>\n",
       "      <th>3</th>\n",
       "      <td>Random Forest</td>\n",
       "      <td>Accuracy</td>\n",
       "      <td>0.460417</td>\n",
       "      <td>English</td>\n",
       "    </tr>\n",
       "    <tr>\n",
       "      <th>4</th>\n",
       "      <td>XGBoost</td>\n",
       "      <td>Accuracy</td>\n",
       "      <td>0.495833</td>\n",
       "      <td>English</td>\n",
       "    </tr>\n",
       "    <tr>\n",
       "      <th>...</th>\n",
       "      <td>...</td>\n",
       "      <td>...</td>\n",
       "      <td>...</td>\n",
       "      <td>...</td>\n",
       "    </tr>\n",
       "    <tr>\n",
       "      <th>85</th>\n",
       "      <td>SVM (rbf)</td>\n",
       "      <td>F1-Score (Weighted)</td>\n",
       "      <td>0.561519</td>\n",
       "      <td>Italian</td>\n",
       "    </tr>\n",
       "    <tr>\n",
       "      <th>86</th>\n",
       "      <td>Logistic Regression</td>\n",
       "      <td>F1-Score (Weighted)</td>\n",
       "      <td>0.518041</td>\n",
       "      <td>Italian</td>\n",
       "    </tr>\n",
       "    <tr>\n",
       "      <th>87</th>\n",
       "      <td>Random Forest</td>\n",
       "      <td>F1-Score (Weighted)</td>\n",
       "      <td>0.489652</td>\n",
       "      <td>Italian</td>\n",
       "    </tr>\n",
       "    <tr>\n",
       "      <th>88</th>\n",
       "      <td>XGBoost</td>\n",
       "      <td>F1-Score (Weighted)</td>\n",
       "      <td>0.538226</td>\n",
       "      <td>Italian</td>\n",
       "    </tr>\n",
       "    <tr>\n",
       "      <th>89</th>\n",
       "      <td>stratified Dummy</td>\n",
       "      <td>F1-Score (Weighted)</td>\n",
       "      <td>0.517790</td>\n",
       "      <td>Italian</td>\n",
       "    </tr>\n",
       "  </tbody>\n",
       "</table>\n",
       "<p>90 rows × 4 columns</p>\n",
       "</div>"
      ],
      "text/plain": [
       "                  Model               Metric     Score  Dataset\n",
       "0          SVM (linear)             Accuracy  0.510417  English\n",
       "1             SVM (rbf)             Accuracy  0.543750  English\n",
       "2   Logistic Regression             Accuracy  0.512500  English\n",
       "3         Random Forest             Accuracy  0.460417  English\n",
       "4               XGBoost             Accuracy  0.495833  English\n",
       "..                  ...                  ...       ...      ...\n",
       "85            SVM (rbf)  F1-Score (Weighted)  0.561519  Italian\n",
       "86  Logistic Regression  F1-Score (Weighted)  0.518041  Italian\n",
       "87        Random Forest  F1-Score (Weighted)  0.489652  Italian\n",
       "88              XGBoost  F1-Score (Weighted)  0.538226  Italian\n",
       "89     stratified Dummy  F1-Score (Weighted)  0.517790  Italian\n",
       "\n",
       "[90 rows x 4 columns]"
      ]
     },
     "execution_count": 37,
     "metadata": {},
     "output_type": "execute_result"
    }
   ],
   "source": [
    "combined_dfs_train_urdu"
   ]
  },
  {
   "cell_type": "code",
   "execution_count": 38,
   "metadata": {},
   "outputs": [],
   "source": [
    "# plot\n",
    "def plot_results(df, title):\n",
    "    plt.figure(figsize=(10, 6))\n",
    "    sns.set_theme(style=\"whitegrid\")\n",
    "\n",
    "    sns.barplot(x=\"Metric\", y=\"Score\", hue=\"Model\", data=df, palette=\"viridis\")\n",
    "    plt.title(title)\n",
    "    plt.xlabel(\"Score\", fontsize = 12)\n",
    "    plt.ylabel(\"Model\", fontsize = 12)\n",
    "    plt.legend(title=\"Metric\", bbox_to_anchor=(1.05, 1), loc='upper left')\n",
    "    plt.tight_layout()\n",
    "    plt.show()"
   ]
  },
  {
   "cell_type": "code",
   "execution_count": 39,
   "metadata": {},
   "outputs": [],
   "source": [
    "def plot_crosslingual_vs_baseline(df_baseline, df_comparison, datasets,titel):\n",
    "\n",
    "    baseline_scores = [df_baseline[df_baseline['Dataset'] == ds]['Score'].values[0] for ds in datasets]\n",
    "    comparison_scores = [df_comparison[df_comparison['Dataset'] == ds]['Score'].values[0] for ds in datasets]\n",
    "\n",
    "    sns.set_style(\"whitegrid\")\n",
    "    x = np.arange(len(datasets))\n",
    "    width = 0.35\n",
    "    colors = sns.color_palette(\"viridis\", 2)\n",
    "\n",
    "    fig, ax = plt.subplots()\n",
    "    rects1 = ax.bar(x - width/2, comparison_scores, width, label='Cross Lingual', color=colors[0])\n",
    "    rects2 = ax.bar(x + width/2, baseline_scores, width, label='Baseline', color=colors[1])\n",
    "\n",
    "    ax.set_ylabel('Accuracy (%)')\n",
    "    ax.set_title(titel)\n",
    "    ax.set_xticks(x)\n",
    "    ax.set_xticklabels(datasets)\n",
    "    ax.legend()\n",
    "    plt.tight_layout()\n",
    "    plt.show()"
   ]
  },
  {
   "cell_type": "markdown",
   "metadata": {},
   "source": [
    "### testing with urdu"
   ]
  },
  {
   "cell_type": "code",
   "execution_count": 40,
   "metadata": {},
   "outputs": [
    {
     "data": {
      "image/png": "[encoded data removed]",
      "text/plain": [
       "<Figure size 1000x600 with 1 Axes>"
      ]
     },
     "metadata": {},
     "output_type": "display_data"
    }
   ],
   "source": [
    "plot_results(train_english_test_urdu, \"train_english_test_urdu\")"
   ]
  },
  {
   "cell_type": "markdown",
   "metadata": {},
   "source": [
    "we choose xgboost as comparison, as it is better as the dummy"
   ]
  },
  {
   "cell_type": "code",
   "execution_count": 41,
   "metadata": {},
   "outputs": [
    {
     "data": {
      "text/html": [
       "<div>\n",
       "<style scoped>\n",
       "    .dataframe tbody tr th:only-of-type {\n",
       "        vertical-align: middle;\n",
       "    }\n",
       "\n",
       "    .dataframe tbody tr th {\n",
       "        vertical-align: top;\n",
       "    }\n",
       "\n",
       "    .dataframe thead th {\n",
       "        text-align: right;\n",
       "    }\n",
       "</style>\n",
       "<table border=\"1\" class=\"dataframe\">\n",
       "  <thead>\n",
       "    <tr style=\"text-align: right;\">\n",
       "      <th></th>\n",
       "      <th>Model</th>\n",
       "      <th>Metric</th>\n",
       "      <th>Score</th>\n",
       "      <th>Dataset</th>\n",
       "    </tr>\n",
       "  </thead>\n",
       "  <tbody>\n",
       "    <tr>\n",
       "      <th>8</th>\n",
       "      <td>XGBoost</td>\n",
       "      <td>balanced_accuracy</td>\n",
       "      <td>0.707515</td>\n",
       "      <td>German</td>\n",
       "    </tr>\n",
       "    <tr>\n",
       "      <th>38</th>\n",
       "      <td>XGBoost</td>\n",
       "      <td>balanced_accuracy</td>\n",
       "      <td>0.707515</td>\n",
       "      <td>English</td>\n",
       "    </tr>\n",
       "    <tr>\n",
       "      <th>68</th>\n",
       "      <td>XGBoost</td>\n",
       "      <td>balanced_accuracy</td>\n",
       "      <td>0.592560</td>\n",
       "      <td>Italian</td>\n",
       "    </tr>\n",
       "    <tr>\n",
       "      <th>98</th>\n",
       "      <td>XGBoost</td>\n",
       "      <td>balanced_accuracy</td>\n",
       "      <td>0.687916</td>\n",
       "      <td>Urdu</td>\n",
       "    </tr>\n",
       "  </tbody>\n",
       "</table>\n",
       "</div>"
      ],
      "text/plain": [
       "      Model             Metric     Score  Dataset\n",
       "8   XGBoost  balanced_accuracy  0.707515   German\n",
       "38  XGBoost  balanced_accuracy  0.707515  English\n",
       "68  XGBoost  balanced_accuracy  0.592560  Italian\n",
       "98  XGBoost  balanced_accuracy  0.687916     Urdu"
      ]
     },
     "execution_count": 41,
     "metadata": {},
     "output_type": "execute_result"
    }
   ],
   "source": [
    "# create plots like in paper\n",
    "# compare with baseline\n",
    "# get baseline\n",
    "df_baseline_accuracy = combined_df_baseline[(combined_df_baseline[\"Metric\"] == \"balanced_accuracy\") & (combined_df_baseline[\"Model\"] == \"XGBoost\")]\n",
    "\n",
    "\n",
    "df_baseline_accuracy"
   ]
  },
  {
   "cell_type": "code",
   "execution_count": 42,
   "metadata": {},
   "outputs": [
    {
     "data": {
      "text/html": [
       "<div>\n",
       "<style scoped>\n",
       "    .dataframe tbody tr th:only-of-type {\n",
       "        vertical-align: middle;\n",
       "    }\n",
       "\n",
       "    .dataframe tbody tr th {\n",
       "        vertical-align: top;\n",
       "    }\n",
       "\n",
       "    .dataframe thead th {\n",
       "        text-align: right;\n",
       "    }\n",
       "</style>\n",
       "<table border=\"1\" class=\"dataframe\">\n",
       "  <thead>\n",
       "    <tr style=\"text-align: right;\">\n",
       "      <th></th>\n",
       "      <th>Model</th>\n",
       "      <th>Metric</th>\n",
       "      <th>Score</th>\n",
       "      <th>Dataset</th>\n",
       "    </tr>\n",
       "  </thead>\n",
       "  <tbody>\n",
       "    <tr>\n",
       "      <th>10</th>\n",
       "      <td>XGBoost</td>\n",
       "      <td>Balanced Accuracy</td>\n",
       "      <td>0.495833</td>\n",
       "      <td>English</td>\n",
       "    </tr>\n",
       "    <tr>\n",
       "      <th>40</th>\n",
       "      <td>XGBoost</td>\n",
       "      <td>Balanced Accuracy</td>\n",
       "      <td>0.568312</td>\n",
       "      <td>German</td>\n",
       "    </tr>\n",
       "    <tr>\n",
       "      <th>70</th>\n",
       "      <td>XGBoost</td>\n",
       "      <td>Balanced Accuracy</td>\n",
       "      <td>0.537698</td>\n",
       "      <td>Italian</td>\n",
       "    </tr>\n",
       "  </tbody>\n",
       "</table>\n",
       "</div>"
      ],
      "text/plain": [
       "      Model             Metric     Score  Dataset\n",
       "10  XGBoost  Balanced Accuracy  0.495833  English\n",
       "40  XGBoost  Balanced Accuracy  0.568312   German\n",
       "70  XGBoost  Balanced Accuracy  0.537698  Italian"
      ]
     },
     "execution_count": 42,
     "metadata": {},
     "output_type": "execute_result"
    }
   ],
   "source": [
    "# training with urdu\n",
    "datasets = ['German', 'English', 'Italian']\n",
    "df_train_urdu_accuracy = combined_dfs_train_urdu[(combined_dfs_train_urdu[\"Metric\"] == \"Balanced Accuracy\") & (combined_dfs_train_urdu[\"Model\"] == \"XGBoost\")]\n",
    "df_train_urdu_accuracy"
   ]
  },
  {
   "cell_type": "code",
   "execution_count": 43,
   "metadata": {},
   "outputs": [
    {
     "data": {
      "text/html": [
       "<div>\n",
       "<style scoped>\n",
       "    .dataframe tbody tr th:only-of-type {\n",
       "        vertical-align: middle;\n",
       "    }\n",
       "\n",
       "    .dataframe tbody tr th {\n",
       "        vertical-align: top;\n",
       "    }\n",
       "\n",
       "    .dataframe thead th {\n",
       "        text-align: right;\n",
       "    }\n",
       "</style>\n",
       "<table border=\"1\" class=\"dataframe\">\n",
       "  <thead>\n",
       "    <tr style=\"text-align: right;\">\n",
       "      <th></th>\n",
       "      <th>Model</th>\n",
       "      <th>Metric</th>\n",
       "      <th>Score</th>\n",
       "      <th>Dataset</th>\n",
       "    </tr>\n",
       "  </thead>\n",
       "  <tbody>\n",
       "    <tr>\n",
       "      <th>10</th>\n",
       "      <td>XGBoost</td>\n",
       "      <td>Balanced Accuracy</td>\n",
       "      <td>0.5525</td>\n",
       "      <td>German</td>\n",
       "    </tr>\n",
       "    <tr>\n",
       "      <th>40</th>\n",
       "      <td>XGBoost</td>\n",
       "      <td>Balanced Accuracy</td>\n",
       "      <td>0.5750</td>\n",
       "      <td>English</td>\n",
       "    </tr>\n",
       "    <tr>\n",
       "      <th>70</th>\n",
       "      <td>XGBoost</td>\n",
       "      <td>Balanced Accuracy</td>\n",
       "      <td>0.5550</td>\n",
       "      <td>Italian</td>\n",
       "    </tr>\n",
       "  </tbody>\n",
       "</table>\n",
       "</div>"
      ],
      "text/plain": [
       "      Model             Metric   Score  Dataset\n",
       "10  XGBoost  Balanced Accuracy  0.5525   German\n",
       "40  XGBoost  Balanced Accuracy  0.5750  English\n",
       "70  XGBoost  Balanced Accuracy  0.5550  Italian"
      ]
     },
     "execution_count": 43,
     "metadata": {},
     "output_type": "execute_result"
    }
   ],
   "source": [
    "\n",
    "\n",
    "# testing with urdu\n",
    "df_test_urdu_accuracy = combined_dfs_test_urdu[(combined_dfs_test_urdu[\"Metric\"] == \"Balanced Accuracy\") & (combined_dfs_test_urdu[\"Model\"] == \"XGBoost\")]\n",
    "df_test_urdu_accuracy"
   ]
  },
  {
   "cell_type": "code",
   "execution_count": 44,
   "metadata": {},
   "outputs": [
    {
     "data": {
      "image/png": "[encoded data removed]",
      "text/plain": [
       "<Figure size 640x480 with 1 Axes>"
      ]
     },
     "metadata": {},
     "output_type": "display_data"
    }
   ],
   "source": [
    "plot_crosslingual_vs_baseline(df_baseline_accuracy, df_train_urdu_accuracy, datasets, \"Training with URDU\")"
   ]
  },
  {
   "cell_type": "code",
   "execution_count": 45,
   "metadata": {},
   "outputs": [
    {
     "data": {
      "image/png": "[encoded data removed]",
      "text/plain": [
       "<Figure size 640x480 with 1 Axes>"
      ]
     },
     "metadata": {},
     "output_type": "display_data"
    }
   ],
   "source": [
    "plot_crosslingual_vs_baseline(df_baseline_accuracy, df_test_urdu_accuracy, datasets, \"Testing with URDU\")"
   ]
  }
 ],
 "metadata": {
  "kernelspec": {
   "display_name": "Python 3",
   "language": "python",
   "name": "python3"
  },
  "language_info": {
   "codemirror_mode": {
    "name": "ipython",
    "version": 3
   },
   "file_extension": ".py",
   "mimetype": "text/x-python",
   "name": "python",
   "nbconvert_exporter": "python",
   "pygments_lexer": "ipython3",
   "version": "3.11.9"
  }
 },
 "nbformat": 4,
 "nbformat_minor": 2
}
