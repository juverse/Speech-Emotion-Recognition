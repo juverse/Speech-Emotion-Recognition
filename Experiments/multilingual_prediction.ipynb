{
 "cells": [
  {
   "cell_type": "markdown",
   "metadata": {},
   "source": [
    "# Multilingual prediction"
   ]
  },
  {
   "cell_type": "code",
   "execution_count": 19,
   "metadata": {},
   "outputs": [],
   "source": [
    "# dependencies\n",
    "import pandas as pd\n",
    "import numpy as np\n",
    "from sklearn.pipeline import Pipeline\n",
    "from sklearn.preprocessing import StandardScaler, LabelEncoder\n",
    "from sklearn.svm import SVC\n",
    "from sklearn.linear_model import LogisticRegression\n",
    "from sklearn.ensemble import RandomForestClassifier\n",
    "from xgboost import XGBClassifier\n",
    "from sklearn.metrics import (\n",
    "    accuracy_score,\n",
    "    balanced_accuracy_score,\n",
    "    precision_score,\n",
    "    recall_score,\n",
    "    f1_score\n",
    ")"
   ]
  },
  {
   "cell_type": "code",
   "execution_count": 20,
   "metadata": {},
   "outputs": [],
   "source": [
    "# data\n",
    "df_urdu = pd.read_csv(r'..\\Data\\Urdu\\features_urdu.csv')\n",
    "df_english = pd.read_csv(r'..\\Data\\English\\features_english.csv')\n",
    "df_german = pd.read_csv(r'..\\Data\\German\\features_german.csv')\n",
    "df_italian = pd.read_csv(r'..\\Data\\Italian\\features_italian.csv')\n",
    "\n",
    "df_engger = pd.concat([df_english, df_german], ignore_index=True)\n",
    "df_engita = pd.concat([df_english, df_italian], ignore_index=True)\n",
    "df_gerita = pd.concat([df_german, df_italian], ignore_index=True)\n",
    "\n",
    "df_western = pd.concat([df_english, df_german, df_italian], ignore_index=True)\n",
    "\n",
    "combined_languages = {\n",
    "    'english_and_german': df_engger,\n",
    "    'english_and_italian': df_engita,\n",
    "    'german_and_italian': df_gerita,\n",
    "    'western': df_western\n",
    "}"
   ]
  },
  {
   "cell_type": "markdown",
   "metadata": {},
   "source": [
    "Define Functions for better overview and easier loops"
   ]
  },
  {
   "cell_type": "code",
   "execution_count": 21,
   "metadata": {},
   "outputs": [],
   "source": [
    "def separate_feats_labs(df_train, df_test):\n",
    "    X_train = df_train.drop([\"emotion\", \"speaker_id\", \"filename\", \"valence\"], axis=1) # Features\n",
    "    y_train = df_train['valence']\n",
    "\n",
    "    X_test = df_test.drop([\"emotion\", \"speaker_id\", \"filename\", \"valence\"], axis=1) # Features\n",
    "    y_test = df_test['valence']\n",
    "    return X_train, y_train, X_test, y_test\n",
    "\n",
    "def compare_models(models: dict, X_train, y_train, X_test, y_test, results):\n",
    "    \n",
    "    for name, model in models.items():\n",
    "    \n",
    "        # Define pipeline: Scaling + Model\n",
    "        pipeline = Pipeline([\n",
    "            ('scaler', StandardScaler()),\n",
    "            ('classifier', model)\n",
    "            ])\n",
    "   \n",
    "        # Fit the model on training data\n",
    "        pipeline.fit(X_train, y_train)\n",
    "        y_pred = pipeline.predict(X_test)\n",
    "    \n",
    "        # Metrics calculation\n",
    "        accuracy = accuracy_score(y_test, y_pred)\n",
    "        balanced_accuracy = balanced_accuracy_score(y_test, y_pred)\n",
    "        precision = precision_score(y_test, y_pred, average='weighted')\n",
    "        recall = recall_score(y_test, y_pred, average='weighted')\n",
    "        f1 = f1_score(y_test, y_pred, average='weighted')\n",
    "    \n",
    "        # Save results\n",
    "        results.append({\n",
    "            'Model': name,\n",
    "            'Accuracy': accuracy,\n",
    "            'Balanced Accuracy': balanced_accuracy,\n",
    "            'Precision (Weighted)': precision,\n",
    "            'Recall (Weighted)': recall,\n",
    "            'F1-Score (Weighted)': f1\n",
    "        })\n",
    "\n",
    "    return results\n",
    "\n",
    "def add_random_dummy(y_train, y_test, results):\n",
    "    # Generate random predictions from the existing labels\n",
    "    y_random = np.random.choice(y_train.unique(), size=len(y_test), replace=True)\n",
    "\n",
    "    # Metrics for Random Baseline\n",
    "    random_accuracy = accuracy_score(y_test, y_random)\n",
    "    random_balanced_accuracy = balanced_accuracy_score(y_test, y_random)\n",
    "    random_precision = precision_score(y_test, y_random, average='weighted', zero_division=0)\n",
    "    random_recall = recall_score(y_test, y_random, average='weighted')\n",
    "    random_f1 = f1_score(y_test, y_random, average='weighted')\n",
    "\n",
    "    # Save Random Baseline results\n",
    "    results.append({\n",
    "        'Model': 'stratified Dummy',\n",
    "        'Accuracy': random_accuracy,\n",
    "        'Balanced Accuracy': random_balanced_accuracy,\n",
    "        'Precision (Weighted)': random_precision,\n",
    "        'Recall (Weighted)': random_recall,\n",
    "        'F1-Score (Weighted)': random_f1\n",
    "    })\n",
    "\n",
    "    return results"
   ]
  },
  {
   "cell_type": "code",
   "execution_count": 22,
   "metadata": {},
   "outputs": [],
   "source": [
    "# Define models for comparison\n",
    "models = {\n",
    "    'SVM (linear)': SVC(kernel='linear', C=1.0, random_state=42, probability=True),\n",
    "    'SVM (rbf)': SVC(kernel='rbf', C=1.0, random_state=42, probability=True),\n",
    "    'Logistic Regression': LogisticRegression(max_iter=1000, random_state=42),\n",
    "    'Random Forest': RandomForestClassifier(n_estimators=100, random_state=42),\n",
    "    'XGBoost': XGBClassifier(n_estimators=100, random_state=42, use_label_encoder=False, eval_metric='mlogloss')\n",
    "}"
   ]
  },
  {
   "cell_type": "code",
   "execution_count": 23,
   "metadata": {},
   "outputs": [],
   "source": [
    "def train_with_test_data(df_train, df_test, western_name):\n",
    "    # Separate features and labels\n",
    "    X_train, y_train, X_test, y_test = separate_feats_labs(df_train, df_test)\n",
    "\n",
    "    # Save results\n",
    "    results = []\n",
    "\n",
    "    # Compare different models\n",
    "    results = compare_models(models, X_train, y_train, X_test, y_test, results)\n",
    "\n",
    "    # add random baseline/dummy\n",
    "    results = add_random_dummy(y_train, y_test, results)\n",
    "\n",
    "    # convert results to dataframe\n",
    "    results_df = pd.DataFrame(results)\n",
    "\n",
    "    file_path = f\"../Evaluation/Multilingual/multilingual_{western_name}.csv\"\n",
    "\n",
    "    # save the data as csv\n",
    "    results_df.to_csv(file_path, index=False)"
   ]
  },
  {
   "cell_type": "code",
   "execution_count": 24,
   "metadata": {},
   "outputs": [
    {
     "name": "stderr",
     "output_type": "stream",
     "text": [
      "C:\\Users\\david\\AppData\\Local\\Packages\\PythonSoftwareFoundation.Python.3.13_qbz5n2kfra8p0\\LocalCache\\local-packages\\Python313\\site-packages\\xgboost\\core.py:158: UserWarning: [22:29:04] WARNING: C:\\buildkite-agent\\builds\\buildkite-windows-cpu-autoscaling-group-i-08cbc0333d8d4aae1-1\\xgboost\\xgboost-ci-windows\\src\\learner.cc:740: \n",
      "Parameters: { \"use_label_encoder\" } are not used.\n",
      "\n",
      "  warnings.warn(smsg, UserWarning)\n",
      "C:\\Users\\david\\AppData\\Local\\Packages\\PythonSoftwareFoundation.Python.3.13_qbz5n2kfra8p0\\LocalCache\\local-packages\\Python313\\site-packages\\xgboost\\core.py:158: UserWarning: [22:29:06] WARNING: C:\\buildkite-agent\\builds\\buildkite-windows-cpu-autoscaling-group-i-08cbc0333d8d4aae1-1\\xgboost\\xgboost-ci-windows\\src\\learner.cc:740: \n",
      "Parameters: { \"use_label_encoder\" } are not used.\n",
      "\n",
      "  warnings.warn(smsg, UserWarning)\n",
      "C:\\Users\\david\\AppData\\Local\\Packages\\PythonSoftwareFoundation.Python.3.13_qbz5n2kfra8p0\\LocalCache\\local-packages\\Python313\\site-packages\\xgboost\\core.py:158: UserWarning: [22:29:09] WARNING: C:\\buildkite-agent\\builds\\buildkite-windows-cpu-autoscaling-group-i-08cbc0333d8d4aae1-1\\xgboost\\xgboost-ci-windows\\src\\learner.cc:740: \n",
      "Parameters: { \"use_label_encoder\" } are not used.\n",
      "\n",
      "  warnings.warn(smsg, UserWarning)\n",
      "C:\\Users\\david\\AppData\\Local\\Packages\\PythonSoftwareFoundation.Python.3.13_qbz5n2kfra8p0\\LocalCache\\local-packages\\Python313\\site-packages\\xgboost\\core.py:158: UserWarning: [22:29:13] WARNING: C:\\buildkite-agent\\builds\\buildkite-windows-cpu-autoscaling-group-i-08cbc0333d8d4aae1-1\\xgboost\\xgboost-ci-windows\\src\\learner.cc:740: \n",
      "Parameters: { \"use_label_encoder\" } are not used.\n",
      "\n",
      "  warnings.warn(smsg, UserWarning)\n"
     ]
    }
   ],
   "source": [
    "for language, data in combined_languages.items():\n",
    "    train_with_test_data(df_train=data, df_test=df_urdu, western_name=language)"
   ]
  }
 ],
 "metadata": {
  "kernelspec": {
   "display_name": "Python 3",
   "language": "python",
   "name": "python3"
  },
  "language_info": {
   "codemirror_mode": {
    "name": "ipython",
    "version": 3
   },
   "file_extension": ".py",
   "mimetype": "text/x-python",
   "name": "python",
   "nbconvert_exporter": "python",
   "pygments_lexer": "ipython3",
   "version": "3.13.2"
  }
 },
 "nbformat": 4,
 "nbformat_minor": 2
}
