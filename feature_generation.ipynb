{
 "cells": [
  {
   "cell_type": "markdown",
   "metadata": {},
   "source": [
    "## Feature Generation"
   ]
  },
  {
   "cell_type": "markdown",
   "metadata": {},
   "source": [
    "### Introduction to geMAPS (Geneva Minimalistic Acoustic Parameter Set)\n",
    "\n",
    "geMAPS is used as a baseline for acoustic analysis, with the possibility to adapt the features according to specific needs.\n",
    "\n",
    "#### Frequency-related parameters:\n",
    "- **Pitch**: Logarithmic F0 on a semitone frequency scale, starting at 27.5 Hz (semitone 0).\n",
    "- **Jitter**: Deviations in individual consecutive F0 period lengths.\n",
    "- **Formant 1, 2, and 3 frequency**: Centre frequency of the first, second, and third formants.\n",
    "- **Formant 1 bandwidth**: Bandwidth of the first formant.\n",
    "#### Energy/Amplitude-related parameters:\n",
    "- **Shimmer**: Difference of the peak amplitudes of consecutive F0 periods.\n",
    "- **Loudness**: Estimate of perceived signal intensity from an auditory spectrum.\n",
    "- **Harmonics-to-Noise Ratio (HNR)**: Relation of energy in harmonic components to energy in noise-like components.\n",
    "#### Spectral (balance) parameters:\n",
    "- **Alpha Ratio**: Ratio of the summed energy from 50–1000 Hz and 1–5 kHz.\n",
    "- **Hammarberg Index**: Ratio of the strongest energy peak in the 0–2 kHz region to the strongest peak in the 2–5 kHz region.\n",
    "- **Spectral Slope (0–500 Hz and 500–1500 Hz)**: Linear regression slope of the logarithmic power spectrum within the two given bands.\n",
    "- **Formant 1, 2, and 3 relative energy**: Ratio of the energy of the spectral harmonic peak at the first, second, and third formant's centre frequency to the energy of the spectral peak at F0.\n",
    "- **Harmonic difference H1–H2**: Ratio of the energy of the first F0 harmonic (H1) to the energy of the second F0 harmonic (H2).\n",
    "- **Harmonic difference H1–A3**: Ratio of the energy of the first F0 harmonic (H1) to the energy of the highest harmonic in the third formant range (A3).\n",
    "\n",
    "There are different geMaps, we use the newiest one which is gemapsv02"
   ]
  },
  {
   "cell_type": "code",
   "execution_count": 1,
   "metadata": {},
   "outputs": [],
   "source": [
    "# dependecies\n",
    "import opensmile\n",
    "import pandas as pd"
   ]
  },
  {
   "cell_type": "code",
   "execution_count": 2,
   "metadata": {},
   "outputs": [],
   "source": [
    "# data\n",
    "df_german = pd.read_csv(r'C:\\Users\\Julia\\Documents\\Uni\\Speech-Emotion-Recognition\\Data\\German\\data_path_german.csv')\n",
    "df_urdu = pd.read_csv(r'C:\\Users\\Julia\\Documents\\Uni\\Speech-Emotion-Recognition\\Data\\Urdu\\data_path_urdu.csv')"
   ]
  },
  {
   "cell_type": "code",
   "execution_count": null,
   "metadata": {},
   "outputs": [],
   "source": [
    "def extract_features(df, column=\"filename\"):\n",
    "    # openSMILE initialization (eGeMAPS configuration)\n",
    "    smile = opensmile.Smile(\n",
    "        feature_set=opensmile.FeatureSet.eGeMAPSv02,\n",
    "        feature_level=opensmile.FeatureLevel.Functionals,\n",
    "    )\n",
    "\n",
    "    # Feature extraction\n",
    "    features = [smile.process_file(path) for path in df[column]]\n",
    "\n",
    "    # Combine features with the dataframe\n",
    "    features_df = pd.concat(features).reset_index(drop=True)\n",
    "    return pd.concat([df, features_df], axis=1)\n"
   ]
  },
  {
   "cell_type": "code",
   "execution_count": null,
   "metadata": {},
   "outputs": [],
   "source": [
    "df_features_german = extract_features(df_german)"
   ]
  },
  {
   "cell_type": "code",
   "execution_count": 5,
   "metadata": {},
   "outputs": [],
   "source": [
    "df_features_urdu = extract_features(df_urdu)"
   ]
  },
  {
   "cell_type": "code",
   "execution_count": 6,
   "metadata": {},
   "outputs": [
    {
     "data": {
      "text/html": [
       "<div>\n",
       "<style scoped>\n",
       "    .dataframe tbody tr th:only-of-type {\n",
       "        vertical-align: middle;\n",
       "    }\n",
       "\n",
       "    .dataframe tbody tr th {\n",
       "        vertical-align: top;\n",
       "    }\n",
       "\n",
       "    .dataframe thead th {\n",
       "        text-align: right;\n",
       "    }\n",
       "</style>\n",
       "<table border=\"1\" class=\"dataframe\">\n",
       "  <thead>\n",
       "    <tr style=\"text-align: right;\">\n",
       "      <th></th>\n",
       "      <th>filename</th>\n",
       "      <th>emotion</th>\n",
       "      <th>speaker_id</th>\n",
       "      <th>valence</th>\n",
       "    </tr>\n",
       "  </thead>\n",
       "  <tbody>\n",
       "    <tr>\n",
       "      <th>0</th>\n",
       "      <td>C:\\Users\\Julia\\Documents\\Uni\\Speech-Emotion-Re...</td>\n",
       "      <td>happiness</td>\n",
       "      <td>3</td>\n",
       "      <td>Positive</td>\n",
       "    </tr>\n",
       "    <tr>\n",
       "      <th>1</th>\n",
       "      <td>C:\\Users\\Julia\\Documents\\Uni\\Speech-Emotion-Re...</td>\n",
       "      <td>neutral</td>\n",
       "      <td>3</td>\n",
       "      <td>Positive</td>\n",
       "    </tr>\n",
       "    <tr>\n",
       "      <th>2</th>\n",
       "      <td>C:\\Users\\Julia\\Documents\\Uni\\Speech-Emotion-Re...</td>\n",
       "      <td>anger</td>\n",
       "      <td>3</td>\n",
       "      <td>Negative</td>\n",
       "    </tr>\n",
       "    <tr>\n",
       "      <th>3</th>\n",
       "      <td>C:\\Users\\Julia\\Documents\\Uni\\Speech-Emotion-Re...</td>\n",
       "      <td>happiness</td>\n",
       "      <td>3</td>\n",
       "      <td>Positive</td>\n",
       "    </tr>\n",
       "    <tr>\n",
       "      <th>4</th>\n",
       "      <td>C:\\Users\\Julia\\Documents\\Uni\\Speech-Emotion-Re...</td>\n",
       "      <td>neutral</td>\n",
       "      <td>3</td>\n",
       "      <td>Positive</td>\n",
       "    </tr>\n",
       "  </tbody>\n",
       "</table>\n",
       "</div>"
      ],
      "text/plain": [
       "                                            filename    emotion  speaker_id  \\\n",
       "0  C:\\Users\\Julia\\Documents\\Uni\\Speech-Emotion-Re...  happiness           3   \n",
       "1  C:\\Users\\Julia\\Documents\\Uni\\Speech-Emotion-Re...    neutral           3   \n",
       "2  C:\\Users\\Julia\\Documents\\Uni\\Speech-Emotion-Re...      anger           3   \n",
       "3  C:\\Users\\Julia\\Documents\\Uni\\Speech-Emotion-Re...  happiness           3   \n",
       "4  C:\\Users\\Julia\\Documents\\Uni\\Speech-Emotion-Re...    neutral           3   \n",
       "\n",
       "    valence  \n",
       "0  Positive  \n",
       "1  Positive  \n",
       "2  Negative  \n",
       "3  Positive  \n",
       "4  Positive  "
      ]
     },
     "execution_count": 6,
     "metadata": {},
     "output_type": "execute_result"
    }
   ],
   "source": [
    "df_german.head()"
   ]
  },
  {
   "cell_type": "code",
   "execution_count": 7,
   "metadata": {},
   "outputs": [
    {
     "data": {
      "text/html": [
       "<div>\n",
       "<style scoped>\n",
       "    .dataframe tbody tr th:only-of-type {\n",
       "        vertical-align: middle;\n",
       "    }\n",
       "\n",
       "    .dataframe tbody tr th {\n",
       "        vertical-align: top;\n",
       "    }\n",
       "\n",
       "    .dataframe thead th {\n",
       "        text-align: right;\n",
       "    }\n",
       "</style>\n",
       "<table border=\"1\" class=\"dataframe\">\n",
       "  <thead>\n",
       "    <tr style=\"text-align: right;\">\n",
       "      <th></th>\n",
       "      <th>filename</th>\n",
       "      <th>emotion</th>\n",
       "      <th>speaker_id</th>\n",
       "      <th>valence</th>\n",
       "    </tr>\n",
       "  </thead>\n",
       "  <tbody>\n",
       "    <tr>\n",
       "      <th>0</th>\n",
       "      <td>C:\\Users\\Julia\\Documents\\Uni\\Speech-Emotion-Re...</td>\n",
       "      <td>Angry</td>\n",
       "      <td>1</td>\n",
       "      <td>Negative</td>\n",
       "    </tr>\n",
       "    <tr>\n",
       "      <th>1</th>\n",
       "      <td>C:\\Users\\Julia\\Documents\\Uni\\Speech-Emotion-Re...</td>\n",
       "      <td>Angry</td>\n",
       "      <td>1</td>\n",
       "      <td>Negative</td>\n",
       "    </tr>\n",
       "    <tr>\n",
       "      <th>2</th>\n",
       "      <td>C:\\Users\\Julia\\Documents\\Uni\\Speech-Emotion-Re...</td>\n",
       "      <td>Angry</td>\n",
       "      <td>1</td>\n",
       "      <td>Negative</td>\n",
       "    </tr>\n",
       "    <tr>\n",
       "      <th>3</th>\n",
       "      <td>C:\\Users\\Julia\\Documents\\Uni\\Speech-Emotion-Re...</td>\n",
       "      <td>Angry</td>\n",
       "      <td>1</td>\n",
       "      <td>Negative</td>\n",
       "    </tr>\n",
       "    <tr>\n",
       "      <th>4</th>\n",
       "      <td>C:\\Users\\Julia\\Documents\\Uni\\Speech-Emotion-Re...</td>\n",
       "      <td>Angry</td>\n",
       "      <td>1</td>\n",
       "      <td>Negative</td>\n",
       "    </tr>\n",
       "  </tbody>\n",
       "</table>\n",
       "</div>"
      ],
      "text/plain": [
       "                                            filename emotion  speaker_id  \\\n",
       "0  C:\\Users\\Julia\\Documents\\Uni\\Speech-Emotion-Re...   Angry           1   \n",
       "1  C:\\Users\\Julia\\Documents\\Uni\\Speech-Emotion-Re...   Angry           1   \n",
       "2  C:\\Users\\Julia\\Documents\\Uni\\Speech-Emotion-Re...   Angry           1   \n",
       "3  C:\\Users\\Julia\\Documents\\Uni\\Speech-Emotion-Re...   Angry           1   \n",
       "4  C:\\Users\\Julia\\Documents\\Uni\\Speech-Emotion-Re...   Angry           1   \n",
       "\n",
       "    valence  \n",
       "0  Negative  \n",
       "1  Negative  \n",
       "2  Negative  \n",
       "3  Negative  \n",
       "4  Negative  "
      ]
     },
     "execution_count": 7,
     "metadata": {},
     "output_type": "execute_result"
    }
   ],
   "source": [
    "df_urdu.head()"
   ]
  },
  {
   "cell_type": "code",
   "execution_count": 8,
   "metadata": {},
   "outputs": [],
   "source": [
    "# save features\n",
    "df_features_german.to_csv(\"Data/German/features_german.csv\",index=False)\n",
    "df_features_urdu.to_csv(\"Data/Urdu/features_urdu.csv\",index=False)\n"
   ]
  }
 ],
 "metadata": {
  "kernelspec": {
   "display_name": "Python 3",
   "language": "python",
   "name": "python3"
  },
  "language_info": {
   "codemirror_mode": {
    "name": "ipython",
    "version": 3
   },
   "file_extension": ".py",
   "mimetype": "text/x-python",
   "name": "python",
   "nbconvert_exporter": "python",
   "pygments_lexer": "ipython3",
   "version": "3.11.9"
  }
 },
 "nbformat": 4,
 "nbformat_minor": 2
}
